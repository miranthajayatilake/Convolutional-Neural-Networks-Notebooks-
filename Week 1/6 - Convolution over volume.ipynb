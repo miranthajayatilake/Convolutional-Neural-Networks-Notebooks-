{
 "cells": [
  {
   "cell_type": "markdown",
   "metadata": {},
   "source": [
    "# Lecture 6"
   ]
  },
  {
   "cell_type": "markdown",
   "metadata": {},
   "source": [
    "## Convolution over volume\n",
    "\n",
    "Convolution over 3D image rahter than 2D as before"
   ]
  },
  {
   "cell_type": "markdown",
   "metadata": {},
   "source": [
    "* The filter has 3D as well\n",
    "\n",
    "The filter is treated as a cube. So below it's dealing with 27 numbers\n",
    "The result is a 2D matrix\n",
    "\n",
    "<img src=\"L6_1.png\">"
   ]
  },
  {
   "cell_type": "markdown",
   "metadata": {},
   "source": [
    "Similarly you can have a several 3D filters and stack them to have a multi dimentional result\n",
    "\n",
    "The number of channels of the result is the number of features captured"
   ]
  },
  {
   "cell_type": "code",
   "execution_count": null,
   "metadata": {},
   "outputs": [],
   "source": []
  }
 ],
 "metadata": {
  "kernelspec": {
   "display_name": "Python 3",
   "language": "python",
   "name": "python3"
  },
  "language_info": {
   "codemirror_mode": {
    "name": "ipython",
    "version": 3
   },
   "file_extension": ".py",
   "mimetype": "text/x-python",
   "name": "python",
   "nbconvert_exporter": "python",
   "pygments_lexer": "ipython3",
   "version": "3.5.2"
  }
 },
 "nbformat": 4,
 "nbformat_minor": 2
}
