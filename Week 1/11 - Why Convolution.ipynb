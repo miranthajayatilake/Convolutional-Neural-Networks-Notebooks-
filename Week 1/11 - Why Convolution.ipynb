{
 "cells": [
  {
   "cell_type": "markdown",
   "metadata": {},
   "source": [
    "# Lecture 11\n",
    "\n",
    "## Why Convolution and applying to a labeled dataset"
   ]
  },
  {
   "cell_type": "markdown",
   "metadata": {},
   "source": [
    "In CNN's\n",
    "\n",
    "* Less number of parameters compared to FC (Fully connected)\n",
    "* Parameters can be shared - The filter can be used more than once on the inputs\n",
    "* Sparsity of connections - Each output value depends only on a small number of inputs\n",
    "\n",
    "This is why using CNN's we can detect a cats in images evethough the cat is moved to a side on one image (More robust)"
   ]
  },
  {
   "cell_type": "markdown",
   "metadata": {},
   "source": [
    "<img src=\"L11_1.png\">"
   ]
  },
  {
   "cell_type": "code",
   "execution_count": null,
   "metadata": {},
   "outputs": [],
   "source": []
  }
 ],
 "metadata": {
  "kernelspec": {
   "display_name": "Python 3",
   "language": "python",
   "name": "python3"
  },
  "language_info": {
   "codemirror_mode": {
    "name": "ipython",
    "version": 3
   },
   "file_extension": ".py",
   "mimetype": "text/x-python",
   "name": "python",
   "nbconvert_exporter": "python",
   "pygments_lexer": "ipython3",
   "version": "3.5.2"
  }
 },
 "nbformat": 4,
 "nbformat_minor": 2
}
