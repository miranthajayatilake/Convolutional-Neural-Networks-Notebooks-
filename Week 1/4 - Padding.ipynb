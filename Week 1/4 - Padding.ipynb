{
 "cells": [
  {
   "cell_type": "markdown",
   "metadata": {},
   "source": [
    "# Lecture 4"
   ]
  },
  {
   "cell_type": "markdown",
   "metadata": {},
   "source": [
    "## Padding"
   ]
  },
  {
   "cell_type": "markdown",
   "metadata": {},
   "source": [
    "Why Pad the image?\n",
    "\n",
    "* When performing convolution the output keeps ono shrinking\n",
    "* Also the info at the edges are thrown away (caught only a single time by the filter)\n",
    "\n",
    "So to solve these two cases we do padding"
   ]
  },
  {
   "cell_type": "markdown",
   "metadata": {},
   "source": [
    "Padding can be done by a defined number of pixels in the border (denoted by padding = 1)\n",
    "Normally zeros are padded around the image\n",
    "\n",
    "<img src=\"L4_1.png\">"
   ]
  },
  {
   "cell_type": "markdown",
   "metadata": {},
   "source": [
    "Two types of padding is present\n",
    "1. Valid - No Padding\n",
    "2. Same - Pad so that the output size is the same as inout size\n",
    "\n",
    "Usually the filter size is odd (ex: 3x3, 5x5) Why?\n",
    "\n",
    "* Always get symmetric padding (p = (f-1)/2)\n",
    "* Having a central figure"
   ]
  },
  {
   "cell_type": "code",
   "execution_count": null,
   "metadata": {},
   "outputs": [],
   "source": []
  }
 ],
 "metadata": {
  "kernelspec": {
   "display_name": "Python 3",
   "language": "python",
   "name": "python3"
  },
  "language_info": {
   "codemirror_mode": {
    "name": "ipython",
    "version": 3
   },
   "file_extension": ".py",
   "mimetype": "text/x-python",
   "name": "python",
   "nbconvert_exporter": "python",
   "pygments_lexer": "ipython3",
   "version": "3.5.2"
  }
 },
 "nbformat": 4,
 "nbformat_minor": 2
}
