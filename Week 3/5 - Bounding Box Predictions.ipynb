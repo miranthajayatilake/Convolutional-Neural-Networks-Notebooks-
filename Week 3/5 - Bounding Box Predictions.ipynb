{
 "cells": [
  {
   "cell_type": "markdown",
   "metadata": {},
   "source": [
    "# Improving the Bounding Box Predictions"
   ]
  },
  {
   "cell_type": "markdown",
   "metadata": {},
   "source": [
    "### This is where you use YOLO\n",
    "\n",
    "- So the first step is dividing the image into a grid (3x3 in this case)\n",
    "- Then you run the image classification with localization for each square\n",
    "\n",
    "As we know this outputs a vector of 8 for each square. So the target output will a 3x3x8. \n",
    "\n",
    "The squre in which the midpoint of the object will be captured\n",
    "\n",
    "When applying this can be incerased to be something like 19x19x8 for more accuracy\n",
    "\n",
    "<img src=\"5_1.png\">"
   ]
  },
  {
   "cell_type": "markdown",
   "metadata": {},
   "source": [
    "SO how do you encode the bounding boxes? (bx, by, bh, bw)\n",
    "\n",
    "so these are define relative to the cordinates of the box. (0,0) at the top left corner and (1,1) at the bottom right corner. \n",
    "\n",
    "So bx, by are some number between 0 and 1\n",
    "But bh and bw can be greater than 1"
   ]
  },
  {
   "cell_type": "code",
   "execution_count": null,
   "metadata": {},
   "outputs": [],
   "source": []
  }
 ],
 "metadata": {
  "kernelspec": {
   "display_name": "Python 3",
   "language": "python",
   "name": "python3"
  },
  "language_info": {
   "codemirror_mode": {
    "name": "ipython",
    "version": 3
   },
   "file_extension": ".py",
   "mimetype": "text/x-python",
   "name": "python",
   "nbconvert_exporter": "python",
   "pygments_lexer": "ipython3",
   "version": "3.5.2"
  }
 },
 "nbformat": 4,
 "nbformat_minor": 2
}
