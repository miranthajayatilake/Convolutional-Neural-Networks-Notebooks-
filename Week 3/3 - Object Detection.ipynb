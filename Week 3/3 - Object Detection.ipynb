{
 "cells": [
  {
   "cell_type": "markdown",
   "metadata": {},
   "source": [
    "# Object Detection"
   ]
  },
  {
   "cell_type": "markdown",
   "metadata": {},
   "source": [
    "Example - Car detection\n",
    "\n",
    "First you have to closely cropped set of imaged as the training set\n",
    "And the train a convNet to output if there's a car or not\n",
    "\n",
    "Now we're going to use that in the;\n",
    "\n",
    "### Sliding window detection\n"
   ]
  },
  {
   "cell_type": "markdown",
   "metadata": {},
   "source": [
    "- make a small square and slide it across the image \n",
    "- And then use the trained convNet to predit whether there's a car there or not\n",
    "\n",
    "- Next use a larger window\n",
    "- Next a larger image\n",
    "- Continue this untill you detect a car\n",
    "\n",
    "#### The idea here is that when a the car fits a squre, it'll output 1 \n"
   ]
  },
  {
   "cell_type": "markdown",
   "metadata": {},
   "source": [
    "The disadvantage in the computation cost when doing this for higher accuracy\n",
    "\n",
    "So the same sliding window technique can be implemented more efficiently using convolution\n",
    "\n",
    "<img src=\"3_1.png\">"
   ]
  },
  {
   "cell_type": "code",
   "execution_count": null,
   "metadata": {},
   "outputs": [],
   "source": []
  }
 ],
 "metadata": {
  "kernelspec": {
   "display_name": "Python 3",
   "language": "python",
   "name": "python3"
  },
  "language_info": {
   "codemirror_mode": {
    "name": "ipython",
    "version": 3
   },
   "file_extension": ".py",
   "mimetype": "text/x-python",
   "name": "python",
   "nbconvert_exporter": "python",
   "pygments_lexer": "ipython3",
   "version": "3.5.2"
  }
 },
 "nbformat": 4,
 "nbformat_minor": 2
}
