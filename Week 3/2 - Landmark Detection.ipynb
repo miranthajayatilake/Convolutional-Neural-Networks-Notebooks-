{
 "cells": [
  {
   "cell_type": "markdown",
   "metadata": {},
   "source": [
    "# Landmark Detection"
   ]
  },
  {
   "cell_type": "markdown",
   "metadata": {},
   "source": [
    "This is more relevant to face detection\n",
    "\n",
    "Used to extract specific points on an image and output x and y cordinates of those points.\n",
    " Input face image -> Conv -> output vector [face?, l1x,l1y, ... l65x, l65y] This is we defining 65 landmarks and the output vector should have 66 elements. \n",
    " \n",
    " Used in face filters *\n",
    " Also can be used for pose detection\n",
    " \n",
    " <img src=\"2_1.png\">"
   ]
  },
  {
   "cell_type": "code",
   "execution_count": null,
   "metadata": {},
   "outputs": [],
   "source": []
  }
 ],
 "metadata": {
  "kernelspec": {
   "display_name": "Python 3",
   "language": "python",
   "name": "python3"
  },
  "language_info": {
   "codemirror_mode": {
    "name": "ipython",
    "version": 3
   },
   "file_extension": ".py",
   "mimetype": "text/x-python",
   "name": "python",
   "nbconvert_exporter": "python",
   "pygments_lexer": "ipython3",
   "version": "3.5.2"
  }
 },
 "nbformat": 4,
 "nbformat_minor": 2
}
