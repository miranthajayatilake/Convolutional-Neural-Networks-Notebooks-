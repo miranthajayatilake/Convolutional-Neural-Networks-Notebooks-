{
 "cells": [
  {
   "cell_type": "markdown",
   "metadata": {},
   "source": [
    "# Convolution Implementation of Sliding Window"
   ]
  },
  {
   "cell_type": "markdown",
   "metadata": {},
   "source": [
    "First see how turn FC layers in to convolutional layers\n",
    "\n",
    "Here as shown after the last conv layer if without flattening it out, you can convolve it with 400 of 50x50 filters. And then again convolve with 1x1x400 to get that result and finally apply softmax with a 1x1 filter.\n",
    "\n",
    "<img src=\"4_1.png\">"
   ]
  },
  {
   "cell_type": "markdown",
   "metadata": {},
   "source": [
    "Now use this concept on images\n",
    "\n",
    "<img src=\"4_2.png\">"
   ]
  },
  {
   "cell_type": "markdown",
   "metadata": {},
   "source": [
    "- And the first network shows if the filter is the same size as the image\n",
    "- The second row is when the image is slightly larger than the filter\n",
    "      - Here it can be seen that the output is a 2x2x4, which means each only 4 boxes in each channel has to be check (THe channels represent the different classes)\n",
    "- The thrid row shows the same concept on a much larger image      "
   ]
  },
  {
   "cell_type": "code",
   "execution_count": null,
   "metadata": {},
   "outputs": [],
   "source": []
  }
 ],
 "metadata": {
  "kernelspec": {
   "display_name": "Python 3",
   "language": "python",
   "name": "python3"
  },
  "language_info": {
   "codemirror_mode": {
    "name": "ipython",
    "version": 3
   },
   "file_extension": ".py",
   "mimetype": "text/x-python",
   "name": "python",
   "nbconvert_exporter": "python",
   "pygments_lexer": "ipython3",
   "version": "3.5.2"
  }
 },
 "nbformat": 4,
 "nbformat_minor": 2
}
