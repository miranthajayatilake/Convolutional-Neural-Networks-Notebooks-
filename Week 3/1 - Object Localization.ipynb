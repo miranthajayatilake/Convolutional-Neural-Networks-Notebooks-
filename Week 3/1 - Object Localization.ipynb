{
 "cells": [
  {
   "cell_type": "markdown",
   "metadata": {},
   "source": [
    "# Object Localization"
   ]
  },
  {
   "cell_type": "markdown",
   "metadata": {},
   "source": [
    "Localization means that more than classifying an image if it's a car or not, the algorithm marks the boundry of the car in the image\n",
    "\n",
    "Detection means identifying several objects in one image and localizing them"
   ]
  },
  {
   "cell_type": "markdown",
   "metadata": {},
   "source": [
    "#### So to Classification with localization we'll need the the outputs to be four classes along with bx, by, bh, bw which are parameters of the rectangle around the object\n",
    "\n",
    "<img src=\"1_1.png\">"
   ]
  },
  {
   "cell_type": "markdown",
   "metadata": {},
   "source": [
    "So when defining y as shown below, it is a vector of 8 elements\n",
    "\n",
    "* Pc - (if an object is present = 1 | if no object = 0)\n",
    "* bx - X cordinate of the object \n",
    "* by - Y cordinate of the object\n",
    "* bh - height of the object surrounding rectangle\n",
    "* bw - width of the object surrounding rectangle\n",
    "* C1 - class one (pedestrian in this case)\n",
    "* C2 - class 2 (car in this case)\n",
    "* C3 - class 3 (motorcycle in this case)\n",
    "\n",
    "And if an object is not selected int he first case (if Pc = 0) the other elements are ignored (\"don't care\")\n",
    "\n",
    "After that a loss function can be used to calculate the loss of the outputs"
   ]
  },
  {
   "cell_type": "markdown",
   "metadata": {},
   "source": [
    "<img src=\"1_2.png\">"
   ]
  },
  {
   "cell_type": "code",
   "execution_count": null,
   "metadata": {},
   "outputs": [],
   "source": []
  }
 ],
 "metadata": {
  "kernelspec": {
   "display_name": "Python 3",
   "language": "python",
   "name": "python3"
  },
  "language_info": {
   "codemirror_mode": {
    "name": "ipython",
    "version": 3
   },
   "file_extension": ".py",
   "mimetype": "text/x-python",
   "name": "python",
   "nbconvert_exporter": "python",
   "pygments_lexer": "ipython3",
   "version": "3.5.2"
  }
 },
 "nbformat": 4,
 "nbformat_minor": 2
}
