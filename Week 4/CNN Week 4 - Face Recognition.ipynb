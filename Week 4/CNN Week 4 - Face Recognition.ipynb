{
 "cells": [
  {
   "cell_type": "markdown",
   "metadata": {},
   "source": [
    "# Face Recognition\n",
    "\n",
    "Face verification\n",
    "- input image and ID given and the system verifies the image with the id\n",
    "\n",
    "Face recognition\n",
    "- Input image is only given, system scans a database to output ID if the person is from the database\n",
    "\n",
    "So face recognition will want a second verification model cause the verification model will have heigher accuracy\n",
    "\n"
   ]
  },
  {
   "cell_type": "markdown",
   "metadata": {},
   "source": [
    "# One shot learning \n",
    "\n",
    "For Face verification - recognize given one image\n",
    "\n",
    "Similarity function - Function d\n",
    "See the difference between two images\n",
    "If large difference -> d outputs large number\n",
    "If small difference -> d outputs small number\n",
    "\n",
    "You can set a threshold. if < threshold then verified\n"
   ]
  },
  {
   "cell_type": "markdown",
   "metadata": {},
   "source": [
    "# Siamese network\n",
    "\n",
    "siamese network for function d\n",
    "\n",
    "Take the final FC layer\n",
    "apply norm here to get the difference value\n",
    "<img src=\"01.jpg\">\n",
    "\n",
    "<img src=\"02.jpg\">"
   ]
  },
  {
   "cell_type": "markdown",
   "metadata": {},
   "source": [
    "# Triplet Loss\n",
    "\n",
    "Learning the parameters of the CNN to output that FC layer\n",
    "\n",
    "<img src=\"03.jpg\">\n",
    "\n",
    "So 3 images are given, hence, triplet\n",
    "We need a dataset with multiple images of the same person\n",
    "\n",
    "<img src=\"04.jpg\">\n",
    "\n",
    "HOw to choose the triplets\n",
    "So if randomply selected the difference could be easily heigher making it easy to satisfy. So the triplets should be selected so that the model finds it hard to satisfy the equation\n",
    "\n",
    "<img src=\"05.jpg\">\n",
    "\n",
    "\n",
    "So this will have to learning the parameters to generate an encoding that will output the difference function as we want"
   ]
  },
  {
   "cell_type": "markdown",
   "metadata": {},
   "source": [
    "# Face verification and binary classification\n",
    "\n",
    "another way to train the parameters\n",
    "\n",
    "<img src=\"06.jpg\">\n",
    "\n",
    "Paper 2014 - DeepFace closing the gap to human level performace - taigman"
   ]
  },
  {
   "cell_type": "markdown",
   "metadata": {},
   "source": [
    "# Neural Style transfer\n",
    "\n",
    "# What are deep ConvNets really learning?\n",
    "\n",
    "This will help us figure out how neural style transfer works\n",
    "<img src=\"07.jpg\">\n",
    "\n",
    "\n",
    "Paper 2013 - Visualizing and understanding convolutional networks - Zeiler and Fergus"
   ]
  },
  {
   "cell_type": "markdown",
   "metadata": {},
   "source": [
    "# Cost function\n",
    "\n",
    "Style transfer\n",
    "Cost function define how good the generated image is and using gradient decent you can use improve this\n",
    "\n",
    "Content loss = how similar is the generated image to the content image\n",
    "Style cost function = How similar is the style of the image G to S\n",
    "<img src=\"08.jpg\">\n",
    "\n",
    "Paper -> 2015 A neural algorithm of atristic style. Justin Johnson\n",
    "\n",
    "<img src=\"09.jpg\">"
   ]
  },
  {
   "cell_type": "markdown",
   "metadata": {},
   "source": [
    "# Content cost function\n",
    "\n",
    "<img src=\"10.jpg\">"
   ]
  },
  {
   "cell_type": "markdown",
   "metadata": {},
   "source": [
    "# Style cost function\n",
    "\n",
    "<img src=\"11.jpg\">\n",
    "\n",
    "<img src=\"12.jpg\">\n",
    "\n",
    "<img src=\"13.jpg\">"
   ]
  },
  {
   "cell_type": "markdown",
   "metadata": {},
   "source": [
    "# 1D and 3D generalization of models\n",
    "\n",
    "<img src=\"14.jpg\">\n",
    "\n",
    "<img src=\"15.jpg\">"
   ]
  },
  {
   "cell_type": "code",
   "execution_count": null,
   "metadata": {},
   "outputs": [],
   "source": []
  }
 ],
 "metadata": {
  "kernelspec": {
   "display_name": "Python 3",
   "language": "python",
   "name": "python3"
  },
  "language_info": {
   "codemirror_mode": {
    "name": "ipython",
    "version": 3
   },
   "file_extension": ".py",
   "mimetype": "text/x-python",
   "name": "python",
   "nbconvert_exporter": "python",
   "pygments_lexer": "ipython3",
   "version": "3.5.2"
  }
 },
 "nbformat": 4,
 "nbformat_minor": 2
}
