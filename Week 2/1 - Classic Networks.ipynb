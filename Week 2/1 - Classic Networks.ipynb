{
 "cells": [
  {
   "cell_type": "markdown",
   "metadata": {},
   "source": [
    "## Classic Networks"
   ]
  },
  {
   "cell_type": "markdown",
   "metadata": {},
   "source": [
    "### LeNet-5\n",
    "\n",
    "Similar to the basic example we looked at. \n",
    "\n",
    "Advance comments\n",
    "- Those days people used sigmoid.tanh rather than relu\n",
    "- Back then to save computation the methods were used with channels\n",
    "- Section 2 and 3 if you're reading the paper\n",
    "\n",
    "<img src=\"images/1_1.png\">"
   ]
  },
  {
   "cell_type": "markdown",
   "metadata": {},
   "source": [
    "### AlexNet\n",
    "\n",
    "Similar to LeNet but more nodes\n",
    "\n",
    "- Used Relu activation\n",
    "- complicated way to used GPU's since GPUs were slow\n",
    "- Local respose Localization\n",
    "\n",
    "<img src=\"./images/1_2.png\">"
   ]
  },
  {
   "cell_type": "markdown",
   "metadata": {},
   "source": [
    "### VGG - 16\n",
    "\n",
    "Simpler architecture\n",
    "Filters are always 3x3, Max pool filter is always 2x2\n",
    "Relative uniformity\n",
    "\n",
    "<img src=\"./images/1_3.png\">"
   ]
  },
  {
   "cell_type": "code",
   "execution_count": null,
   "metadata": {},
   "outputs": [],
   "source": []
  }
 ],
 "metadata": {
  "kernelspec": {
   "display_name": "Python 3",
   "language": "python",
   "name": "python3"
  },
  "language_info": {
   "codemirror_mode": {
    "name": "ipython",
    "version": 3
   },
   "file_extension": ".py",
   "mimetype": "text/x-python",
   "name": "python",
   "nbconvert_exporter": "python",
   "pygments_lexer": "ipython3",
   "version": "3.5.2"
  }
 },
 "nbformat": 4,
 "nbformat_minor": 2
}
