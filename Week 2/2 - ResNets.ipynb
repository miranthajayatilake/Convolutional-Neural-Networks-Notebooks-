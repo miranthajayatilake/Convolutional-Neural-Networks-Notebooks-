{
 "cells": [
  {
   "cell_type": "markdown",
   "metadata": {},
   "source": [
    "## ResNets (Residual Networks)"
   ]
  },
  {
   "cell_type": "markdown",
   "metadata": {},
   "source": [
    "#### Residual Block\n",
    "\n",
    "A shortcut in the network to go much deeper (skip connection)\n",
    "Addition of the new component modifies the equation at the end.\n",
    "\n",
    "<img src=\"./images/2_1.png\">"
   ]
  },
  {
   "cell_type": "markdown",
   "metadata": {},
   "source": [
    "#### The key importance of ResNets is that no matter how deep the network gets, the training error keeps decreasing \n",
    "\n",
    "Where are in a plain NN sometime the deeper it get the accuracy decreases\n",
    "\n",
    "So Resnets can be deeper NN "
   ]
  }
 ],
 "metadata": {
  "kernelspec": {
   "display_name": "Python 3",
   "language": "python",
   "name": "python3"
  },
  "language_info": {
   "codemirror_mode": {
    "name": "ipython",
    "version": 3
   },
   "file_extension": ".py",
   "mimetype": "text/x-python",
   "name": "python",
   "nbconvert_exporter": "python",
   "pygments_lexer": "ipython3",
   "version": "3.5.2"
  }
 },
 "nbformat": 4,
 "nbformat_minor": 2
}
